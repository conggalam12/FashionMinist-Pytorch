{
  "nbformat": 4,
  "nbformat_minor": 0,
  "metadata": {
    "colab": {
      "provenance": []
    },
    "kernelspec": {
      "name": "python3",
      "display_name": "Python 3"
    },
    "language_info": {
      "name": "python"
    }
  },
  "cells": [
    {
      "cell_type": "code",
      "execution_count": 1,
      "metadata": {
        "colab": {
          "base_uri": "https://localhost:8080/"
        },
        "id": "2uX_kHqO2Z7U",
        "outputId": "79e230c3-95ed-4487-c253-da5bd27a9f09"
      },
      "outputs": [
        {
          "output_type": "stream",
          "name": "stdout",
          "text": [
            "Downloading http://fashion-mnist.s3-website.eu-central-1.amazonaws.com/train-images-idx3-ubyte.gz\n",
            "Downloading http://fashion-mnist.s3-website.eu-central-1.amazonaws.com/train-images-idx3-ubyte.gz to ./data/FashionMNIST/raw/train-images-idx3-ubyte.gz\n"
          ]
        },
        {
          "output_type": "stream",
          "name": "stderr",
          "text": [
            "100%|██████████| 26421880/26421880 [00:01<00:00, 16451562.99it/s]\n"
          ]
        },
        {
          "output_type": "stream",
          "name": "stdout",
          "text": [
            "Extracting ./data/FashionMNIST/raw/train-images-idx3-ubyte.gz to ./data/FashionMNIST/raw\n",
            "\n",
            "Downloading http://fashion-mnist.s3-website.eu-central-1.amazonaws.com/train-labels-idx1-ubyte.gz\n",
            "Downloading http://fashion-mnist.s3-website.eu-central-1.amazonaws.com/train-labels-idx1-ubyte.gz to ./data/FashionMNIST/raw/train-labels-idx1-ubyte.gz\n"
          ]
        },
        {
          "output_type": "stream",
          "name": "stderr",
          "text": [
            "100%|██████████| 29515/29515 [00:00<00:00, 305419.02it/s]\n"
          ]
        },
        {
          "output_type": "stream",
          "name": "stdout",
          "text": [
            "Extracting ./data/FashionMNIST/raw/train-labels-idx1-ubyte.gz to ./data/FashionMNIST/raw\n",
            "\n",
            "Downloading http://fashion-mnist.s3-website.eu-central-1.amazonaws.com/t10k-images-idx3-ubyte.gz\n",
            "Downloading http://fashion-mnist.s3-website.eu-central-1.amazonaws.com/t10k-images-idx3-ubyte.gz to ./data/FashionMNIST/raw/t10k-images-idx3-ubyte.gz\n"
          ]
        },
        {
          "output_type": "stream",
          "name": "stderr",
          "text": [
            "100%|██████████| 4422102/4422102 [00:00<00:00, 5482573.72it/s]\n"
          ]
        },
        {
          "output_type": "stream",
          "name": "stdout",
          "text": [
            "Extracting ./data/FashionMNIST/raw/t10k-images-idx3-ubyte.gz to ./data/FashionMNIST/raw\n",
            "\n",
            "Downloading http://fashion-mnist.s3-website.eu-central-1.amazonaws.com/t10k-labels-idx1-ubyte.gz\n",
            "Downloading http://fashion-mnist.s3-website.eu-central-1.amazonaws.com/t10k-labels-idx1-ubyte.gz to ./data/FashionMNIST/raw/t10k-labels-idx1-ubyte.gz\n"
          ]
        },
        {
          "output_type": "stream",
          "name": "stderr",
          "text": [
            "100%|██████████| 5148/5148 [00:00<00:00, 5658353.51it/s]\n"
          ]
        },
        {
          "output_type": "stream",
          "name": "stdout",
          "text": [
            "Extracting ./data/FashionMNIST/raw/t10k-labels-idx1-ubyte.gz to ./data/FashionMNIST/raw\n",
            "\n",
            "Training set has 60000 instances\n",
            "Validation set has 10000 instances\n"
          ]
        }
      ],
      "source": [
        "import torch\n",
        "import torchvision\n",
        "import torchvision.transforms as transforms\n",
        "\n",
        "# PyTorch TensorBoard support\n",
        "from torch.utils.tensorboard import SummaryWriter\n",
        "from datetime import datetime\n",
        "\n",
        "\n",
        "transform = transforms.Compose(\n",
        "    [transforms.ToTensor(),\n",
        "    transforms.Normalize((0.5,), (0.5,))])\n",
        "\n",
        "# Create datasets for training & validation, download if necessary\n",
        "training_set = torchvision.datasets.FashionMNIST('./data', train=True, transform=transform, download=True)\n",
        "validation_set = torchvision.datasets.FashionMNIST('./data', train=False, transform=transform, download=True)\n",
        "\n",
        "# Create data loaders for our datasets; shuffle for training, not for validation\n",
        "training_loader = torch.utils.data.DataLoader(training_set, batch_size=4, shuffle=True)\n",
        "validation_loader = torch.utils.data.DataLoader(validation_set, batch_size=4, shuffle=False)\n",
        "\n",
        "# Class labels\n",
        "classes = ('T-shirt/top', 'Trouser', 'Pullover', 'Dress', 'Coat',\n",
        "        'Sandal', 'Shirt', 'Sneaker', 'Bag', 'Ankle Boot')\n",
        "\n",
        "# Report split sizes\n",
        "print('Training set has {} instances'.format(len(training_set)))\n",
        "print('Validation set has {} instances'.format(len(validation_set)))"
      ]
    },
    {
      "cell_type": "code",
      "source": [
        "import matplotlib.pyplot as plt\n",
        "import numpy as np\n",
        "\n",
        "# Helper function for inline image display\n",
        "def matplotlib_imshow(img, one_channel=False):\n",
        "    if one_channel:\n",
        "        img = img.mean(dim=0)\n",
        "    img = img / 2 + 0.5     # unnormalize\n",
        "    npimg = img.numpy()\n",
        "    if one_channel:\n",
        "        plt.imshow(npimg, cmap=\"Greys\")\n",
        "    else:\n",
        "        plt.imshow(np.transpose(npimg, (1, 2, 0)))\n",
        "\n",
        "dataiter = iter(training_loader)\n",
        "images, labels = next(dataiter)\n",
        "\n",
        "# Create a grid from the images and show them\n",
        "img_grid = torchvision.utils.make_grid(images)\n",
        "matplotlib_imshow(img_grid, one_channel=True)\n",
        "print('  '.join(classes[labels[j]] for j in range(4)))"
      ],
      "metadata": {
        "colab": {
          "base_uri": "https://localhost:8080/",
          "height": 211
        },
        "id": "umKgJL3z2h4h",
        "outputId": "f7640c76-8af8-4491-b852-3df464300567"
      },
      "execution_count": 2,
      "outputs": [
        {
          "output_type": "stream",
          "name": "stdout",
          "text": [
            "Dress  Shirt  T-shirt/top  Sneaker\n"
          ]
        },
        {
          "output_type": "display_data",
          "data": {
            "text/plain": [
              "<Figure size 640x480 with 1 Axes>"
            ],
            "image/png": "[encoded data removed]"
          },
          "metadata": {}
        }
      ]
    },
    {
      "cell_type": "code",
      "source": [
        "import torch.nn as nn\n",
        "import torch.nn.functional as F\n",
        "\n",
        "# PyTorch models inherit from torch.nn.Module\n",
        "class GarmentClassifier(nn.Module):\n",
        "    def __init__(self):\n",
        "        super(GarmentClassifier, self).__init__()\n",
        "        self.conv1 = nn.Conv2d(1, 6, 5)\n",
        "        self.pool = nn.MaxPool2d(2, 2)\n",
        "        self.conv2 = nn.Conv2d(6, 16, 5)\n",
        "        self.fc1 = nn.Linear(16 * 4 * 4, 120)\n",
        "        self.fc2 = nn.Linear(120, 84)\n",
        "        self.fc3 = nn.Linear(84, 10)\n",
        "\n",
        "    def forward(self, x):\n",
        "        x = self.pool(F.relu(self.conv1(x)))\n",
        "        x = self.pool(F.relu(self.conv2(x)))\n",
        "        x = x.view(-1, 16 * 4 * 4)\n",
        "        x = F.relu(self.fc1(x))\n",
        "        x = F.relu(self.fc2(x))\n",
        "        x = self.fc3(x)\n",
        "        return x\n",
        "\n",
        "\n",
        "model = GarmentClassifier()"
      ],
      "metadata": {
        "id": "NlPzZTOs2kSy"
      },
      "execution_count": 3,
      "outputs": []
    },
    {
      "cell_type": "code",
      "source": [
        "loss_fn = torch.nn.CrossEntropyLoss()\n",
        "\n",
        "# NB: Loss functions expect data in batches, so we're creating batches of 4\n",
        "# Represents the model's confidence in each of the 10 classes for a given input\n",
        "dummy_outputs = torch.rand(4, 10)\n",
        "# Represents the correct class among the 10 being tested\n",
        "dummy_labels = torch.tensor([1, 5, 3, 7])\n",
        "\n",
        "print(dummy_outputs)\n",
        "print(dummy_labels)\n",
        "\n",
        "loss = loss_fn(dummy_outputs, dummy_labels)\n",
        "print('Total loss for this batch: {}'.format(loss.item()))"
      ],
      "metadata": {
        "colab": {
          "base_uri": "https://localhost:8080/"
        },
        "id": "4f_VI9l92mmo",
        "outputId": "793226fc-741e-4e9a-8d23-d5e9ed8325c7"
      },
      "execution_count": 4,
      "outputs": [
        {
          "output_type": "stream",
          "name": "stdout",
          "text": [
            "tensor([[0.8290, 0.0097, 0.1066, 0.2082, 0.8393, 0.3293, 0.4809, 0.6730, 0.8817,\n",
            "         0.5454],\n",
            "        [0.9266, 0.9767, 0.0374, 0.1878, 0.2573, 0.4574, 0.2278, 0.9410, 0.6032,\n",
            "         0.7105],\n",
            "        [0.8201, 0.6616, 0.7029, 0.6320, 0.0503, 0.3139, 0.1625, 0.7074, 0.4216,\n",
            "         0.6652],\n",
            "        [0.9790, 0.0837, 0.4545, 0.6756, 0.0250, 0.9951, 0.0507, 0.1010, 0.6684,\n",
            "         0.0726]])\n",
            "tensor([1, 5, 3, 7])\n",
            "Total loss for this batch: 2.5392045974731445\n"
          ]
        }
      ]
    },
    {
      "cell_type": "code",
      "source": [
        "optimizer = torch.optim.SGD(model.parameters(), lr=0.001, momentum=0.9)"
      ],
      "metadata": {
        "id": "Ta8Re4BG2p_I"
      },
      "execution_count": 5,
      "outputs": []
    },
    {
      "cell_type": "code",
      "source": [
        "def train_one_epoch(epoch_index, tb_writer):\n",
        "    running_loss = 0.\n",
        "    last_loss = 0.\n",
        "\n",
        "    # Here, we use enumerate(training_loader) instead of\n",
        "    # iter(training_loader) so that we can track the batch\n",
        "    # index and do some intra-epoch reporting\n",
        "    for i, data in enumerate(training_loader):\n",
        "        # Every data instance is an input + label pair\n",
        "        inputs, labels = data\n",
        "\n",
        "        # Zero your gradients for every batch!\n",
        "        optimizer.zero_grad()\n",
        "\n",
        "        # Make predictions for this batch\n",
        "        outputs = model(inputs)\n",
        "\n",
        "        # Compute the loss and its gradients\n",
        "        loss = loss_fn(outputs, labels)\n",
        "        loss.backward()\n",
        "\n",
        "        # Adjust learning weights\n",
        "        optimizer.step()\n",
        "\n",
        "        # Gather data and report\n",
        "        running_loss += loss.item()\n",
        "        if i % 1000 == 999:\n",
        "            last_loss = running_loss / 1000 # loss per batch\n",
        "            print('  batch {} loss: {}'.format(i + 1, last_loss))\n",
        "            tb_x = epoch_index * len(training_loader) + i + 1\n",
        "            tb_writer.add_scalar('Loss/train', last_loss, tb_x)\n",
        "            running_loss = 0.\n",
        "\n",
        "    return last_loss"
      ],
      "metadata": {
        "id": "J5gmSSuu2ttp"
      },
      "execution_count": 6,
      "outputs": []
    },
    {
      "cell_type": "code",
      "source": [
        "# Initializing in a separate cell so we can easily add more epochs to the same run\n",
        "timestamp = datetime.now().strftime('%Y%m%d_%H%M%S')\n",
        "writer = SummaryWriter('runs/fashion_trainer_{}'.format(timestamp))\n",
        "epoch_number = 0\n",
        "\n",
        "EPOCHS = 5\n",
        "\n",
        "best_vloss = 1_000_000.\n",
        "\n",
        "for epoch in range(EPOCHS):\n",
        "    print('EPOCH {}:'.format(epoch_number + 1))\n",
        "\n",
        "    # Make sure gradient tracking is on, and do a pass over the data\n",
        "    model.train(True)\n",
        "    avg_loss = train_one_epoch(epoch_number, writer)\n",
        "\n",
        "    # We don't need gradients on to do reporting\n",
        "    model.train(False)\n",
        "\n",
        "    running_vloss = 0.0\n",
        "    for i, vdata in enumerate(validation_loader):\n",
        "        vinputs, vlabels = vdata\n",
        "        voutputs = model(vinputs)\n",
        "        vloss = loss_fn(voutputs, vlabels)\n",
        "        running_vloss += vloss\n",
        "\n",
        "    avg_vloss = running_vloss / (i + 1)\n",
        "    print('LOSS train {} valid {}'.format(avg_loss, avg_vloss))\n",
        "\n",
        "    # Log the running loss averaged per batch\n",
        "    # for both training and validation\n",
        "    writer.add_scalars('Training vs. Validation Loss',\n",
        "                    { 'Training' : avg_loss, 'Validation' : avg_vloss },\n",
        "                    epoch_number + 1)\n",
        "    writer.flush()\n",
        "\n",
        "    # Track best performance, and save the model's state\n",
        "    if avg_vloss < best_vloss:\n",
        "        best_vloss = avg_vloss\n",
        "        model_path = 'model_{}_{}'.format(timestamp, epoch_number)\n",
        "        torch.save(model.state_dict(), model_path)\n",
        "\n",
        "    epoch_number += 1"
      ],
      "metadata": {
        "colab": {
          "base_uri": "https://localhost:8080/"
        },
        "id": "IA4gV9BR2vla",
        "outputId": "df869c16-a2c3-44f9-bdba-f83a86cc53f9"
      },
      "execution_count": 7,
      "outputs": [
        {
          "output_type": "stream",
          "name": "stdout",
          "text": [
            "EPOCH 1:\n",
            "  batch 1000 loss: 1.7336270167976617\n",
            "  batch 2000 loss: 0.8268158037494868\n",
            "  batch 3000 loss: 0.6973681762013585\n",
            "  batch 4000 loss: 0.6337526922887191\n",
            "  batch 5000 loss: 0.5982711970000528\n",
            "  batch 6000 loss: 0.5511261123166769\n",
            "  batch 7000 loss: 0.523133688764181\n",
            "  batch 8000 loss: 0.477607687223237\n",
            "  batch 9000 loss: 0.47875837938836774\n",
            "  batch 10000 loss: 0.48275917510595173\n",
            "  batch 11000 loss: 0.4501952094044536\n",
            "  batch 12000 loss: 0.44738978008390407\n",
            "  batch 13000 loss: 0.4481765945449588\n",
            "  batch 14000 loss: 0.43368433816015023\n",
            "  batch 15000 loss: 0.39497364222728354\n",
            "LOSS train 0.39497364222728354 valid 0.42465445399284363\n",
            "EPOCH 2:\n",
            "  batch 1000 loss: 0.4101819966604235\n",
            "  batch 2000 loss: 0.37963571429622245\n",
            "  batch 3000 loss: 0.3975325840630103\n",
            "  batch 4000 loss: 0.3917162713009166\n",
            "  batch 5000 loss: 0.37521913186435996\n",
            "  batch 6000 loss: 0.3788082196007017\n",
            "  batch 7000 loss: 0.3630820569524076\n",
            "  batch 8000 loss: 0.36614547691229926\n",
            "  batch 9000 loss: 0.3704246617240133\n",
            "  batch 10000 loss: 0.37143890883080893\n",
            "  batch 11000 loss: 0.3549181798453501\n",
            "  batch 12000 loss: 0.34010457611597666\n",
            "  batch 13000 loss: 0.36618144852423573\n",
            "  batch 14000 loss: 0.3613605178856524\n",
            "  batch 15000 loss: 0.3549860274535859\n",
            "LOSS train 0.3549860274535859 valid 0.375357061624527\n",
            "EPOCH 3:\n",
            "  batch 1000 loss: 0.3255457371190569\n",
            "  batch 2000 loss: 0.3546587802398717\n",
            "  batch 3000 loss: 0.30524846155684643\n",
            "  batch 4000 loss: 0.33327740590041505\n",
            "  batch 5000 loss: 0.3184080536778438\n",
            "  batch 6000 loss: 0.34087990119642925\n",
            "  batch 7000 loss: 0.31661931336419\n",
            "  batch 8000 loss: 0.3420706820485648\n",
            "  batch 9000 loss: 0.3238509276937257\n",
            "  batch 10000 loss: 0.3503158081196598\n",
            "  batch 11000 loss: 0.31651210740121316\n",
            "  batch 12000 loss: 0.3226585860266059\n",
            "  batch 13000 loss: 0.3267295062948251\n",
            "  batch 14000 loss: 0.31974455398494317\n",
            "  batch 15000 loss: 0.2982750187063648\n",
            "LOSS train 0.2982750187063648 valid 0.3395065367221832\n",
            "EPOCH 4:\n",
            "  batch 1000 loss: 0.28972583391315126\n",
            "  batch 2000 loss: 0.2945865646866732\n",
            "  batch 3000 loss: 0.30874228239041984\n",
            "  batch 4000 loss: 0.30205328812305376\n",
            "  batch 5000 loss: 0.28753032183956384\n",
            "  batch 6000 loss: 0.3058258065594855\n",
            "  batch 7000 loss: 0.31401961661010863\n",
            "  batch 8000 loss: 0.28688044850309236\n",
            "  batch 9000 loss: 0.29543575374133796\n",
            "  batch 10000 loss: 0.2993141414983984\n",
            "  batch 11000 loss: 0.2966007572429371\n",
            "  batch 12000 loss: 0.303756826485027\n",
            "  batch 13000 loss: 0.2798326622208115\n",
            "  batch 14000 loss: 0.29241473457978284\n",
            "  batch 15000 loss: 0.28233015317593524\n",
            "LOSS train 0.28233015317593524 valid 0.32409337162971497\n",
            "EPOCH 5:\n",
            "  batch 1000 loss: 0.26232668929403735\n",
            "  batch 2000 loss: 0.29555649868527323\n",
            "  batch 3000 loss: 0.2576163585653285\n",
            "  batch 4000 loss: 0.2673683442909096\n",
            "  batch 5000 loss: 0.2750155261458117\n",
            "  batch 6000 loss: 0.2919799013211991\n",
            "  batch 7000 loss: 0.287606370213417\n",
            "  batch 8000 loss: 0.27892202663312854\n",
            "  batch 9000 loss: 0.28083507770437427\n",
            "  batch 10000 loss: 0.28629261894136104\n",
            "  batch 11000 loss: 0.28372233904125826\n",
            "  batch 12000 loss: 0.26953708075107713\n",
            "  batch 13000 loss: 0.29694180882969523\n",
            "  batch 14000 loss: 0.2767041491286618\n",
            "  batch 15000 loss: 0.279057101566319\n",
            "LOSS train 0.279057101566319 valid 0.30302947759628296\n"
          ]
        }
      ]
    },
    {
      "cell_type": "code",
      "source": [
        "torch.save(model.state_dict(), 'fashion.h5')"
      ],
      "metadata": {
        "id": "YSx_Fw8t2y6g"
      },
      "execution_count": 8,
      "outputs": []
    },
    {
      "cell_type": "code",
      "source": [
        "model.load_state_dict(torch.load('fashion.h5'))\n",
        "model"
      ],
      "metadata": {
        "colab": {
          "base_uri": "https://localhost:8080/"
        },
        "id": "1Z0gcsUQ5Cn5",
        "outputId": "8c8404d5-2454-448f-c431-acbc4e812080"
      },
      "execution_count": 9,
      "outputs": [
        {
          "output_type": "execute_result",
          "data": {
            "text/plain": [
              "GarmentClassifier(\n",
              "  (conv1): Conv2d(1, 6, kernel_size=(5, 5), stride=(1, 1))\n",
              "  (pool): MaxPool2d(kernel_size=2, stride=2, padding=0, dilation=1, ceil_mode=False)\n",
              "  (conv2): Conv2d(6, 16, kernel_size=(5, 5), stride=(1, 1))\n",
              "  (fc1): Linear(in_features=256, out_features=120, bias=True)\n",
              "  (fc2): Linear(in_features=120, out_features=84, bias=True)\n",
              "  (fc3): Linear(in_features=84, out_features=10, bias=True)\n",
              ")"
            ]
          },
          "metadata": {},
          "execution_count": 9
        }
      ]
    }
  ]
}